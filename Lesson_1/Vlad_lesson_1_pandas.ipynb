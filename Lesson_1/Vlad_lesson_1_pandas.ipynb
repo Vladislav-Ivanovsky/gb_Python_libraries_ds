{
 "cells": [
  {
   "cell_type": "markdown",
   "metadata": {},
   "source": [
    "### Задание 1"
   ]
  },
  {
   "cell_type": "markdown",
   "metadata": {},
   "source": [
    "Импортируйте библиотеку Pandas и дайте ей псевдоним pd. Создайте датафрейм authors со столбцами author_id и author_name, в которых соответственно содержатся данные: [1, 2, 3] и ['Тургенев', 'Чехов', 'Островский'].\n",
    "Затем создайте датафрейм book cо столбцами author_id, book_title и price, в которых соответственно содержатся данные:  \n",
    "[1, 1, 1, 2, 2, 3, 3],\n",
    "['Отцы и дети', 'Рудин', 'Дворянское гнездо', 'Толстый и тонкий', 'Дама с собачкой', 'Гроза', 'Таланты и поклонники']"
   ]
  },
  {
   "cell_type": "code",
   "execution_count": 1,
   "metadata": {},
   "outputs": [],
   "source": [
    "import pandas as pd"
   ]
  },
  {
   "cell_type": "code",
   "execution_count": 8,
   "metadata": {},
   "outputs": [
    {
     "name": "stdout",
     "output_type": "stream",
     "text": [
      "   author_id author_name\n",
      "0          1    Тургенев\n",
      "1          2       Чехов\n",
      "2          3  Островский\n",
      "   author_id            book_title  price\n",
      "0          1           Отцы и дети    100\n",
      "1          1                 Рудин    200\n",
      "2          1     Дворянское гнездо    300\n",
      "3          2      Толстый и тонкий     50\n",
      "4          2       Дама с собачкой     85\n",
      "5          3                 Гроза    150\n",
      "6          3  Таланты и поклонники    175\n"
     ]
    }
   ],
   "source": [
    "authors=pd.DataFrame({\"author_id\":[1,2,3], \"author_name\":['Тургенев', 'Чехов', 'Островский']})\n",
    "print(authors)\n",
    "book = pd.DataFrame({\"author_id\":[1, 1, 1, 2, 2, 3, 3],\n",
    "                     \"book_title\":['Отцы и дети', 'Рудин', 'Дворянское гнездо', 'Толстый и тонкий', 'Дама с собачкой', 'Гроза', 'Таланты и поклонники'],\n",
    "                     \"price\":[100,200,300,50,85,150,175]\n",
    "                    })\n",
    "print(book)"
   ]
  },
  {
   "cell_type": "markdown",
   "metadata": {},
   "source": [
    "### Задание 2"
   ]
  },
  {
   "cell_type": "markdown",
   "metadata": {},
   "source": [
    "Получите датафрейм authors_price, соединив дата фреймы authors и books по полю author_id"
   ]
  },
  {
   "cell_type": "code",
   "execution_count": 9,
   "metadata": {},
   "outputs": [
    {
     "name": "stdout",
     "output_type": "stream",
     "text": [
      "   author_id author_name            book_title  price\n",
      "0          1    Тургенев           Отцы и дети    100\n",
      "1          1    Тургенев                 Рудин    200\n",
      "2          1    Тургенев     Дворянское гнездо    300\n",
      "3          2       Чехов      Толстый и тонкий     50\n",
      "4          2       Чехов       Дама с собачкой     85\n",
      "5          3  Островский                 Гроза    150\n",
      "6          3  Островский  Таланты и поклонники    175\n"
     ]
    }
   ],
   "source": [
    "authors_price=pd.merge(authors, book, on=\"author_id\",how=\"inner\")\n",
    "print(authors_price)"
   ]
  },
  {
   "cell_type": "markdown",
   "metadata": {},
   "source": [
    "### Задание 3"
   ]
  },
  {
   "cell_type": "markdown",
   "metadata": {},
   "source": [
    "Создайте датафрейм top5, в котором содержатся строки из authors_price с пятью самыми дорогими книгами."
   ]
  },
  {
   "cell_type": "code",
   "execution_count": 12,
   "metadata": {},
   "outputs": [
    {
     "name": "stdout",
     "output_type": "stream",
     "text": [
      "   author_id author_name            book_title  price\n",
      "2          1    Тургенев     Дворянское гнездо    300\n",
      "1          1    Тургенев                 Рудин    200\n",
      "6          3  Островский  Таланты и поклонники    175\n",
      "5          3  Островский                 Гроза    150\n",
      "0          1    Тургенев           Отцы и дети    100\n"
     ]
    }
   ],
   "source": [
    "top5=authors_price.nlargest(5,\"price\")\n",
    "print(top5)"
   ]
  },
  {
   "cell_type": "markdown",
   "metadata": {},
   "source": [
    "### Задание 4"
   ]
  },
  {
   "cell_type": "markdown",
   "metadata": {},
   "source": [
    "Создайте датафрейм authors_stat на основе информации из authors_price. В датафрейме authors_stat должны быть четыре столбца:\n",
    "author_name, min_price, max_price и mean_price,\n",
    "в которых должны содержаться соответственно имя автора, минимальная, максимальная и средняя цена на книги этого автора."
   ]
  },
  {
   "cell_type": "code",
   "execution_count": 18,
   "metadata": {},
   "outputs": [
    {
     "name": "stdout",
     "output_type": "stream",
     "text": [
      "             min_price  max_price  mean_price\n",
      "author_name                                  \n",
      "Островский         150        175       162.5\n",
      "Тургенев           100        300       200.0\n",
      "Чехов               50         85        67.5\n"
     ]
    }
   ],
   "source": [
    "authors_stat = authors_price.groupby(\"author_name\").agg(\n",
    "    min_price=pd.NamedAgg(column=\"price\", aggfunc=\"min\"),\n",
    "    max_price=pd.NamedAgg(column=\"price\", aggfunc=\"max\"),\n",
    "    mean_price=pd.NamedAgg(column=\"price\", aggfunc=\"mean\"))\n",
    "print(authors_stat)"
   ]
  },
  {
   "cell_type": "markdown",
   "metadata": {},
   "source": [
    "### Задание 5**"
   ]
  },
  {
   "cell_type": "markdown",
   "metadata": {},
   "source": [
    "Создайте новый столбец в датафрейме authors_price под названием cover, в нем будут располагаться данные о том, какая обложка у данной книги - твердая или мягкая. В этот столбец поместите данные из следующего списка:\n",
    "['твердая', 'мягкая', 'мягкая', 'твердая', 'твердая', 'мягкая', 'мягкая'].\n",
    "Просмотрите документацию по функции pd.pivot table с помощью вопросительного знака.\n",
    "Для каждого автора посчитайте суммарную стоимость книг в твердой и мягкой обложке. Используйте для этого функцию pd.pivot_table. При этом столбцы должны называться \"твердая\" и \"мягкая\", а индексами должны быть фамилии авторов. Пропущенные значения стоимостей заполните нулями, при необходимости загрузите библиотеку Numpy.\n",
    "Назовите полученный датасет book_info и сохраните его в формат pickle под названием \"book_info.pkl\". Затем загрузите из этого файла датафрейм и назовите его book_info2. Удостоверьтесь, что датафреймы book_info и book_info2 идентичны."
   ]
  },
  {
   "cell_type": "code",
   "execution_count": 20,
   "metadata": {},
   "outputs": [
    {
     "name": "stdout",
     "output_type": "stream",
     "text": [
      "   author_id author_name            book_title  price    cover\n",
      "0          1    Тургенев           Отцы и дети    100  твердая\n",
      "1          1    Тургенев                 Рудин    200   мягкая\n",
      "2          1    Тургенев     Дворянское гнездо    300   мягкая\n",
      "3          2       Чехов      Толстый и тонкий     50  твердая\n",
      "4          2       Чехов       Дама с собачкой     85  твердая\n",
      "5          3  Островский                 Гроза    150   мягкая\n",
      "6          3  Островский  Таланты и поклонники    175   мягкая\n"
     ]
    }
   ],
   "source": [
    "authors_price[\"cover\"]=['твердая', 'мягкая', 'мягкая', 'твердая', 'твердая', 'мягкая', 'мягкая']\n",
    "print(authors_price)"
   ]
  },
  {
   "cell_type": "code",
   "execution_count": 23,
   "metadata": {},
   "outputs": [
    {
     "name": "stdout",
     "output_type": "stream",
     "text": [
      "cover        мягкая  твердая\n",
      "author_name                 \n",
      "Островский      325        0\n",
      "Тургенев        500      100\n",
      "Чехов             0      135\n"
     ]
    }
   ],
   "source": [
    "book_info=authors_price.pivot_table(values=\"price\",index=\"author_name\",columns=\"cover\", aggfunc=\"sum\", fill_value=0)\n",
    "print(book_info)"
   ]
  },
  {
   "cell_type": "code",
   "execution_count": 24,
   "metadata": {},
   "outputs": [
    {
     "name": "stdout",
     "output_type": "stream",
     "text": [
      "cover        мягкая  твердая\n",
      "author_name                 \n",
      "Островский      325        0\n",
      "Тургенев        500      100\n",
      "Чехов             0      135\n"
     ]
    }
   ],
   "source": [
    "book_info.to_pickle('book_info.pkl')\n",
    "book_info_2=pd.read_pickle('book_info.pkl')\n",
    "print(book_info_2)"
   ]
  }
 ],
 "metadata": {
  "kernelspec": {
   "display_name": "Python 3",
   "language": "python",
   "name": "python3"
  },
  "language_info": {
   "codemirror_mode": {
    "name": "ipython",
    "version": 3
   },
   "file_extension": ".py",
   "mimetype": "text/x-python",
   "name": "python",
   "nbconvert_exporter": "python",
   "pygments_lexer": "ipython3",
   "version": "3.8.3"
  }
 },
 "nbformat": 4,
 "nbformat_minor": 4
}
